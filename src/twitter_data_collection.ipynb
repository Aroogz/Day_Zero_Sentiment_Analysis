{
 "cells": [
  {
   "cell_type": "markdown",
   "metadata": {},
   "source": [
    "# Collection of Twitter data for the <font color='red'>#Day-zero</font> sentiment ananlysis\n",
    "Data is scraped from twitter relating to the waer  crisis issue in Cape Town"
   ]
  },
  {
   "cell_type": "markdown",
   "metadata": {},
   "source": [
    "- drought sort of began in 2015 in the Western cape\n",
    "- Cape town Details:\n",
    "    - -33.9249° S, 18.4241° E\n",
    "- Countries we do business in:\n"
   ]
  },
  {
   "cell_type": "markdown",
   "metadata": {},
   "source": [
    "### Loading Packages"
   ]
  },
  {
   "cell_type": "code",
   "execution_count": 17,
   "metadata": {
    "collapsed": true
   },
   "outputs": [],
   "source": [
    "import numpy as np\n",
    "import pandas as pd\n",
    "import sqlite3\n",
    "import json"
   ]
  },
  {
   "cell_type": "markdown",
   "metadata": {},
   "source": [
    "### Authotrization"
   ]
  },
  {
   "cell_type": "code",
   "execution_count": null,
   "metadata": {
    "collapsed": true
   },
   "outputs": [],
   "source": []
  },
  {
   "cell_type": "markdown",
   "metadata": {},
   "source": [
    "After perusing a few tweets as well as news articles, the following keywords have been suggested"
   ]
  },
  {
   "cell_type": "code",
   "execution_count": 18,
   "metadata": {},
   "outputs": [
    {
     "name": "stdout",
     "output_type": "stream",
     "text": [
      "(\"b'Conspiracy https://t.co/rLZUteTM4S'\",)\n",
      "(\"b'Meaning farms of cape town are more important than human beings. This shocked\\\\xf0\\\\x9f\\\\x98\\\\xa8\\\\xf0\\\\x9f\\\\x98\\\\xa8 https://t.co/cpzzfFiRzE'\",)\n",
      "(\"b'#DayZero \\\\xe2\\\\x80\\\\x93 the day Cape Town is expected to turn off fresh water supply to suburbs \\\\xe2\\\\x80\\\\x93 is pegged at April 12 https://t.co/8LkSkvAQh5'\",)\n"
     ]
    }
   ],
   "source": [
    "conn = sqlite3.connect('test.db')\n",
    "c = conn.cursor()\n",
    "table = 'tweets'\n",
    "for row in c.execute('SELECT text FROM ' + table + ' LIMIT 3'):\n",
    "        print(row)"
   ]
  }
 ],
 "metadata": {
  "kernelspec": {
   "display_name": "Python 3",
   "language": "python",
   "name": "python3"
  },
  "language_info": {
   "codemirror_mode": {
    "name": "ipython",
    "version": 3
   },
   "file_extension": ".py",
   "mimetype": "text/x-python",
   "name": "python",
   "nbconvert_exporter": "python",
   "pygments_lexer": "ipython3",
   "version": "3.6.3"
  }
 },
 "nbformat": 4,
 "nbformat_minor": 1
}
