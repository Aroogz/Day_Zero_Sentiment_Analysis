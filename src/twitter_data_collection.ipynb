{
 "cells": [
  {
   "cell_type": "markdown",
   "metadata": {},
   "source": [
    "# Collection of Twitter data for the <font color='red'>#Day-zero</font> sentiment ananlysis\n",
    "Data is scraped from twitter relating to the waer  crisis issue in Cape Town"
   ]
  },
  {
   "cell_type": "markdown",
   "metadata": {},
   "source": [
    "- drought sort of began in 2015 in the Western cape\n",
    "- Cape town Details:\n",
    "    - -33.9249° S, 18.4241° E\n",
    "- Countries we do business in:\n"
   ]
  },
  {
   "cell_type": "markdown",
   "metadata": {},
   "source": [
    "### Loading Packages"
   ]
  },
  {
   "cell_type": "code",
   "execution_count": 53,
   "metadata": {},
   "outputs": [
    {
     "ename": "ModuleNotFoundError",
     "evalue": "No module named 'jsonpickle'",
     "output_type": "error",
     "traceback": [
      "\u001b[1;31m---------------------------------------------------------------------------\u001b[0m",
      "\u001b[1;31mModuleNotFoundError\u001b[0m                       Traceback (most recent call last)",
      "\u001b[1;32m<ipython-input-53-c78ea0759dfb>\u001b[0m in \u001b[0;36m<module>\u001b[1;34m()\u001b[0m\n\u001b[0;32m      2\u001b[0m \u001b[1;32mimport\u001b[0m \u001b[0mpandas\u001b[0m \u001b[1;32mas\u001b[0m \u001b[0mpd\u001b[0m\u001b[1;33m\u001b[0m\u001b[0m\n\u001b[0;32m      3\u001b[0m \u001b[1;32mimport\u001b[0m \u001b[0mtweepy\u001b[0m \u001b[1;32mas\u001b[0m \u001b[0mtpy\u001b[0m\u001b[1;33m\u001b[0m\u001b[0m\n\u001b[1;32m----> 4\u001b[1;33m \u001b[1;32mimport\u001b[0m \u001b[0mjsonpickle\u001b[0m\u001b[1;33m\u001b[0m\u001b[0m\n\u001b[0m",
      "\u001b[1;31mModuleNotFoundError\u001b[0m: No module named 'jsonpickle'"
     ]
    }
   ],
   "source": [
    "import numpy as np\n",
    "import pandas as pd\n",
    "import tweepy as tpy\n",
    "# import jsonpickle"
   ]
  },
  {
   "cell_type": "markdown",
   "metadata": {},
   "source": [
    "### Authotrization"
   ]
  },
  {
   "cell_type": "code",
   "execution_count": 124,
   "metadata": {},
   "outputs": [],
   "source": [
    "# import access keys\n",
    "from credentials import *\n",
    "\n",
    "# API setup\n",
    "def twitter_setup():\n",
    "    \"\"\"\n",
    "    Utility function to setup the Twitter's API\n",
    "    with our access keys provided.\n",
    "    \"\"\"\n",
    "    # Authentication and access using keys:\n",
    "    auth = tpy.OAuthHandler(CONSUMER_KEY, CONSUMER_SECRET)\n",
    "    auth.set_access_token(ACCESS_TOKEN, ACCESS_SECRET)\n",
    "    # Return API with authentication:\n",
    "    api = tpy.API(auth, wait_on_rate_limit=True, wait_on_rate_limit_notify=True)  # todo: include rate limit parameters\n",
    "    return api\n",
    "\n",
    "api = twitter_setup()"
   ]
  },
  {
   "cell_type": "code",
   "execution_count": 6,
   "metadata": {},
   "outputs": [
    {
     "data": {
      "text/plain": [
       "Place(_api=<tweepy.api.API object at 0x000001D647D236D8>, id='df51dec6f4ee2b2c', url='https://api.twitter.com/1.1/geo/id/df51dec6f4ee2b2c.json', place_type='neighborhood', name='Presidio', full_name='Presidio, San Francisco', country_code='US', country='United States', contained_within=[Place(_api=<tweepy.api.API object at 0x000001D647D236D8>, id='5a110d312052166f', url='https://api.twitter.com/1.1/geo/id/5a110d312052166f.json', place_type='city', name='San Francisco', full_name='San Francisco, CA', country_code='US', country='United States', centroid=[-122.4461400159226, 37.759828999999996], bounding_box=BoundingBox(_api=<tweepy.api.API object at 0x000001D647D236D8>, type='Polygon', coordinates=[[[-122.514926, 37.708075], [-122.514926, 37.833238], [-122.357031, 37.833238], [-122.357031, 37.708075], [-122.514926, 37.708075]]]), attributes={})], geometry=None, polylines=[], centroid=[-122.46598425785236, 37.79989625], bounding_box=BoundingBox(_api=<tweepy.api.API object at 0x000001D647D236D8>, type='Polygon', coordinates=[[[-122.4891333, 37.786925], [-122.4891333, 37.8128675], [-122.446306, 37.8128675], [-122.446306, 37.786925], [-122.4891333, 37.786925]]]), attributes={'geotagCount': '6', '162834:id': '2202'})"
      ]
     },
     "execution_count": 6,
     "metadata": {},
     "output_type": "execute_result"
    }
   ],
   "source": [
    "api.geo_id('df51dec6f4ee2b2c')"
   ]
  },
  {
   "cell_type": "code",
   "execution_count": 17,
   "metadata": {},
   "outputs": [],
   "source": [
    "tweet = api.home_timeline(count=1)[0]"
   ]
  },
  {
   "cell_type": "code",
   "execution_count": null,
   "metadata": {},
   "outputs": [],
   "source": [
    "dir(tweet)"
   ]
  },
  {
   "cell_type": "code",
   "execution_count": 40,
   "metadata": {},
   "outputs": [
    {
     "data": {
      "text/plain": [
       "[956781542491283456,\n",
       " datetime.datetime(2018, 1, 26, 6, 51, 10),\n",
       " 'RT @RickyPo: Sub-Saharan nations lead the way in open access https://t.co/c7XgMmIZsp',\n",
       " 684,\n",
       " False,\n",
       " False,\n",
       " None,\n",
       " None,\n",
       " 1,\n",
       " 0,\n",
       " []]"
      ]
     },
     "execution_count": 40,
     "metadata": {},
     "output_type": "execute_result"
    }
   ],
   "source": [
    "[tweet.id, tweet.created_at, tweet.text, tweet.user.followers_count, tweet.user.verified, tweet.possibly_sensitive, \n",
    " tweet.coordinates, tweet.place, tweet.retweet_count, tweet.favorite_count, tweet.entities['hashtags'], tweet.sc ]"
   ]
  },
  {
   "cell_type": "code",
   "execution_count": 175,
   "metadata": {},
   "outputs": [
    {
     "data": {
      "text/plain": [
       "{'/search/tweets': {'limit': 180, 'remaining': 180, 'reset': 1516974077}}"
      ]
     },
     "execution_count": 175,
     "metadata": {},
     "output_type": "execute_result"
    }
   ],
   "source": [
    "# api.geo_search\n",
    "api.rate_limit_status()['resources']['search']"
   ]
  },
  {
   "cell_type": "markdown",
   "metadata": {},
   "source": [
    "After perusing a few tweets as well as news articles, the following keywords have been suggested"
   ]
  },
  {
   "cell_type": "code",
   "execution_count": 177,
   "metadata": {},
   "outputs": [],
   "source": [
    "search_query = ('\"day zero\" water OR water crisis cape OR \"day zero\" crisis OR cape water OR cape drought')\n",
    "max_tweets= 100000\n",
    "tweets_per_query = 100"
   ]
  },
  {
   "cell_type": "code",
   "execution_count": 178,
   "metadata": {},
   "outputs": [],
   "source": [
    "#with open('../data/tweets.json', mode='w') as f:  # do a check if file already exists as 'x' creates file each time\n",
    "date = []\n",
    "text = []\n",
    "retweet_count = []\n",
    "follower_count = []\n",
    "location = []\n",
    "tags = []\n",
    "verified = []\n",
    "\n",
    "tweets = tpy.Cursor(api.search, q=search_query).items(max_tweets)\n",
    "\n",
    "for tweet in tweets:\n",
    "    text.append(tweet.text)\n",
    "    date.append(tweet.created_at)\n",
    "    retweet_count.append(tweet.retweet_count)\n",
    "    follower_count.append(tweet.user.followers_count)\n",
    "    location.append(tweet.user.location)\n",
    "    tags.append(tweet.entities['hashtags'])\n",
    "    verified.append(tweet.user.verified)\n",
    "    \n",
    "tweet_data = pd.DataFrame({'text': text,\n",
    "                          'date': date,\n",
    "                          'retweet_count': retweet_count,\n",
    "                          'follower_count': follower_count,\n",
    "                          'location': location,\n",
    "                          'tags': tags,\n",
    "                          'verified': verified})\n",
    "    \n",
    "#ata = pd.DataFrame(data=[tweet.text for tweet in tweets], columns=['Tweets'])\n",
    "\n",
    "# data['date'] = np.array([tweet.created_at for tweet in tweets.items])\n",
    "# data['location'] = np.array([tweet.place for tweet in tweets])\n",
    "# data['retweet_count'] = np.array([tweet.retweet_count for tweet in tweets])\n",
    "# data['follower_count'] = np.array([tweet.user.followers_count for tweet in tweets])\n",
    "# data['tags'] = np.array([tweet.entities['hashtags'] for tweet in tweets])"
   ]
  },
  {
   "cell_type": "code",
   "execution_count": 184,
   "metadata": {},
   "outputs": [
    {
     "data": {
      "text/html": [
       "<div>\n",
       "<style>\n",
       "    .dataframe thead tr:only-child th {\n",
       "        text-align: right;\n",
       "    }\n",
       "\n",
       "    .dataframe thead th {\n",
       "        text-align: left;\n",
       "    }\n",
       "\n",
       "    .dataframe tbody tr th {\n",
       "        vertical-align: top;\n",
       "    }\n",
       "</style>\n",
       "<table border=\"1\" class=\"dataframe\">\n",
       "  <thead>\n",
       "    <tr style=\"text-align: right;\">\n",
       "      <th></th>\n",
       "      <th>date</th>\n",
       "      <th>follower_count</th>\n",
       "      <th>location</th>\n",
       "      <th>retweet_count</th>\n",
       "      <th>tags</th>\n",
       "      <th>text</th>\n",
       "      <th>verified</th>\n",
       "    </tr>\n",
       "  </thead>\n",
       "  <tbody>\n",
       "    <tr>\n",
       "      <th>0</th>\n",
       "      <td>2018-01-26 09:47:59</td>\n",
       "      <td>247</td>\n",
       "      <td>UK</td>\n",
       "      <td>0</td>\n",
       "      <td>[{'text': 'water', 'indices': [62, 68]}]</td>\n",
       "      <td>Another commodity, alongside food, that we tak...</td>\n",
       "      <td>False</td>\n",
       "    </tr>\n",
       "    <tr>\n",
       "      <th>1</th>\n",
       "      <td>2018-01-26 09:47:59</td>\n",
       "      <td>737</td>\n",
       "      <td>Washington (the state)</td>\n",
       "      <td>1</td>\n",
       "      <td>[{'text': 'CapeTown', 'indices': [21, 30]}]</td>\n",
       "      <td>RT @TheDailyClimate: #CapeTown authorities are...</td>\n",
       "      <td>False</td>\n",
       "    </tr>\n",
       "    <tr>\n",
       "      <th>2</th>\n",
       "      <td>2018-01-26 09:45:10</td>\n",
       "      <td>15189</td>\n",
       "      <td>Bozeman, Mont.</td>\n",
       "      <td>1</td>\n",
       "      <td>[{'text': 'CapeTown', 'indices': [0, 9]}]</td>\n",
       "      <td>#CapeTown authorities are scrambling to persua...</td>\n",
       "      <td>False</td>\n",
       "    </tr>\n",
       "    <tr>\n",
       "      <th>3</th>\n",
       "      <td>2018-01-26 02:14:37</td>\n",
       "      <td>650</td>\n",
       "      <td>Cape Town, South Africa</td>\n",
       "      <td>147</td>\n",
       "      <td>[]</td>\n",
       "      <td>RT @AssaadRazzouk: Day Zero: Within 4 Months, ...</td>\n",
       "      <td>False</td>\n",
       "    </tr>\n",
       "    <tr>\n",
       "      <th>4</th>\n",
       "      <td>2018-01-26 00:00:00</td>\n",
       "      <td>419</td>\n",
       "      <td>Japan</td>\n",
       "      <td>134</td>\n",
       "      <td>[]</td>\n",
       "      <td>RT @Reuters: WATCH: Cape Town's authorities ar...</td>\n",
       "      <td>False</td>\n",
       "    </tr>\n",
       "  </tbody>\n",
       "</table>\n",
       "</div>"
      ],
      "text/plain": [
       "                 date  follower_count                 location  retweet_count  \\\n",
       "0 2018-01-26 09:47:59             247                       UK              0   \n",
       "1 2018-01-26 09:47:59             737   Washington (the state)              1   \n",
       "2 2018-01-26 09:45:10           15189           Bozeman, Mont.              1   \n",
       "3 2018-01-26 02:14:37             650  Cape Town, South Africa            147   \n",
       "4 2018-01-26 00:00:00             419                    Japan            134   \n",
       "\n",
       "                                          tags  \\\n",
       "0     [{'text': 'water', 'indices': [62, 68]}]   \n",
       "1  [{'text': 'CapeTown', 'indices': [21, 30]}]   \n",
       "2    [{'text': 'CapeTown', 'indices': [0, 9]}]   \n",
       "3                                           []   \n",
       "4                                           []   \n",
       "\n",
       "                                                text  verified  \n",
       "0  Another commodity, alongside food, that we tak...     False  \n",
       "1  RT @TheDailyClimate: #CapeTown authorities are...     False  \n",
       "2  #CapeTown authorities are scrambling to persua...     False  \n",
       "3  RT @AssaadRazzouk: Day Zero: Within 4 Months, ...     False  \n",
       "4  RT @Reuters: WATCH: Cape Town's authorities ar...     False  "
      ]
     },
     "execution_count": 184,
     "metadata": {},
     "output_type": "execute_result"
    }
   ],
   "source": []
  },
  {
   "cell_type": "code",
   "execution_count": null,
   "metadata": {},
   "outputs": [],
   "source": [
    "# todo kparse location column nicely\n",
    "\n",
    "def parse_location(string):\n",
    "    \n",
    "    \"\"\"\n",
    "    takes in a string and returns the best guess for a country name\n",
    "    \"\"\"\n",
    "    "
   ]
  }
 ],
 "metadata": {
  "kernelspec": {
   "display_name": "Python 3",
   "language": "python",
   "name": "python3"
  },
  "language_info": {
   "codemirror_mode": {
    "name": "ipython",
    "version": 3
   },
   "file_extension": ".py",
   "mimetype": "text/x-python",
   "name": "python",
   "nbconvert_exporter": "python",
   "pygments_lexer": "ipython3",
   "version": "3.6.3"
  }
 },
 "nbformat": 4,
 "nbformat_minor": 2
}
