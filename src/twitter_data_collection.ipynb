{
 "cells": [
  {
   "cell_type": "markdown",
   "metadata": {},
   "source": [
    "# Collection of Twitter data for the <font color='red'>#Day-zero</font> sentiment ananlysis\n",
    "Data is scraped from twitter relating to the waer  crisis issue in Cape Town"
   ]
  },
  {
   "cell_type": "markdown",
   "metadata": {},
   "source": [
    "- drought sort of began in 2015 in the Western cape\n",
    "- Cape town Details:\n",
    "    - -33.9249° S, 18.4241° E"
   ]
  },
  {
   "cell_type": "markdown",
   "metadata": {},
   "source": [
    "### Loading Packages"
   ]
  },
  {
   "cell_type": "code",
   "execution_count": 6,
   "metadata": {},
   "outputs": [],
   "source": [
    "import numpy as np\n",
    "import pandas as pd\n",
    "import tweepy as tpy"
   ]
  },
  {
   "cell_type": "markdown",
   "metadata": {},
   "source": [
    "### Authotrization"
   ]
  },
  {
   "cell_type": "code",
   "execution_count": 43,
   "metadata": {},
   "outputs": [],
   "source": [
    "# import access keys\n",
    "from credentials import *\n",
    "\n",
    "# API setup\n",
    "def twitter_setup():\n",
    "    \"\"\"\n",
    "    Utility function to setup the Twitter's API\n",
    "    with our access keys provided.\n",
    "    \"\"\"\n",
    "    # Authentication and access using keys:\n",
    "    auth = tpy.OAuthHandler(CONSUMER_KEY, CONSUMER_SECRET)\n",
    "    auth.set_access_token(ACCESS_TOKEN, ACCESS_SECRET)\n",
    "    # Return API with authentication:\n",
    "    api = tpy.API(auth)\n",
    "    return api\n",
    "\n",
    "api = twitter_setup()"
   ]
  },
  {
   "cell_type": "code",
   "execution_count": 170,
   "metadata": {},
   "outputs": [],
   "source": [
    "a = tpy.Cursor(api.search, q= 'day-zero',  geocode='-33.9249,18.4241,10km').items(1)"
   ]
  },
  {
   "cell_type": "code",
   "execution_count": 128,
   "metadata": {},
   "outputs": [
    {
     "data": {
      "text/plain": [
       "Place(_api=<tweepy.api.API object at 0x00000132A28B3550>, id='df51dec6f4ee2b2c', url='https://api.twitter.com/1.1/geo/id/df51dec6f4ee2b2c.json', place_type='neighborhood', name='Presidio', full_name='Presidio, San Francisco', country_code='US', country='United States', contained_within=[Place(_api=<tweepy.api.API object at 0x00000132A28B3550>, id='5a110d312052166f', url='https://api.twitter.com/1.1/geo/id/5a110d312052166f.json', place_type='city', name='San Francisco', full_name='San Francisco, CA', country_code='US', country='United States', centroid=[-122.4461400159226, 37.759828999999996], bounding_box=BoundingBox(_api=<tweepy.api.API object at 0x00000132A28B3550>, type='Polygon', coordinates=[[[-122.514926, 37.708075], [-122.514926, 37.833238], [-122.357031, 37.833238], [-122.357031, 37.708075], [-122.514926, 37.708075]]]), attributes={})], geometry=None, polylines=[], centroid=[-122.46598425785236, 37.79989625], bounding_box=BoundingBox(_api=<tweepy.api.API object at 0x00000132A28B3550>, type='Polygon', coordinates=[[[-122.4891333, 37.786925], [-122.4891333, 37.8128675], [-122.446306, 37.8128675], [-122.446306, 37.786925], [-122.4891333, 37.786925]]]), attributes={'geotagCount': '6', '162834:id': '2202'})"
      ]
     },
     "execution_count": 128,
     "metadata": {},
     "output_type": "execute_result"
    }
   ],
   "source": [
    "api.geo_id('df51dec6f4ee2b2c')"
   ]
  },
  {
   "cell_type": "code",
   "execution_count": 171,
   "metadata": {},
   "outputs": [],
   "source": [
    "for i in a:\n",
    "    t = i"
   ]
  },
  {
   "cell_type": "code",
   "execution_count": 158,
   "metadata": {},
   "outputs": [
    {
     "ename": "AttributeError",
     "evalue": "'Status' object has no attribute 'screen_name'",
     "output_type": "error",
     "traceback": [
      "\u001b[1;31m---------------------------------------------------------------------------\u001b[0m",
      "\u001b[1;31mAttributeError\u001b[0m                            Traceback (most recent call last)",
      "\u001b[1;32m<ipython-input-158-f83ffaf5c1f3>\u001b[0m in \u001b[0;36m<module>\u001b[1;34m()\u001b[0m\n\u001b[1;32m----> 1\u001b[1;33m \u001b[0mt\u001b[0m\u001b[1;33m.\u001b[0m\u001b[0mscreen_name\u001b[0m\u001b[1;33m\u001b[0m\u001b[0m\n\u001b[0m",
      "\u001b[1;31mAttributeError\u001b[0m: 'Status' object has no attribute 'screen_name'"
     ]
    }
   ],
   "source": []
  },
  {
   "cell_type": "code",
   "execution_count": 172,
   "metadata": {},
   "outputs": [
    {
     "data": {
      "text/plain": [
       "{'contributors': None,\n",
       " 'coordinates': None,\n",
       " 'created_at': 'Tue Jan 23 19:20:50 +0000 2018',\n",
       " 'entities': {'hashtags': [],\n",
       "  'symbols': [],\n",
       "  'urls': [],\n",
       "  'user_mentions': [{'id': 20521828,\n",
       "    'id_str': '20521828',\n",
       "    'indices': [3, 14],\n",
       "    'name': 'Helen Zille',\n",
       "    'screen_name': 'helenzille'}]},\n",
       " 'favorite_count': 0,\n",
       " 'favorited': False,\n",
       " 'geo': None,\n",
       " 'id': 955883040248664065,\n",
       " 'id_str': '955883040248664065',\n",
       " 'in_reply_to_screen_name': None,\n",
       " 'in_reply_to_status_id': None,\n",
       " 'in_reply_to_status_id_str': None,\n",
       " 'in_reply_to_user_id': None,\n",
       " 'in_reply_to_user_id_str': None,\n",
       " 'is_quote_status': False,\n",
       " 'lang': 'en',\n",
       " 'metadata': {'iso_language_code': 'en', 'result_type': 'recent'},\n",
       " 'place': None,\n",
       " 'retweet_count': 36,\n",
       " 'retweeted': False,\n",
       " 'retweeted_status': {'contributors': None,\n",
       "  'coordinates': None,\n",
       "  'created_at': 'Mon Jan 22 09:41:30 +0000 2018',\n",
       "  'entities': {'hashtags': [],\n",
       "   'symbols': [],\n",
       "   'urls': [{'display_url': 'twitter.com/i/web/status/9…',\n",
       "     'expanded_url': 'https://twitter.com/i/web/status/955374858753527809',\n",
       "     'indices': [117, 140],\n",
       "     'url': 'https://t.co/eSq68xMPgu'}],\n",
       "   'user_mentions': []},\n",
       "  'favorite_count': 57,\n",
       "  'favorited': False,\n",
       "  'geo': None,\n",
       "  'id': 955374858753527809,\n",
       "  'id_str': '955374858753527809',\n",
       "  'in_reply_to_screen_name': None,\n",
       "  'in_reply_to_status_id': None,\n",
       "  'in_reply_to_status_id_str': None,\n",
       "  'in_reply_to_user_id': None,\n",
       "  'in_reply_to_user_id_str': None,\n",
       "  'is_quote_status': False,\n",
       "  'lang': 'en',\n",
       "  'metadata': {'iso_language_code': 'en', 'result_type': 'recent'},\n",
       "  'place': None,\n",
       "  'retweet_count': 36,\n",
       "  'retweeted': False,\n",
       "  'source': '<a href=\"https://about.twitter.com/products/tweetdeck\" rel=\"nofollow\">TweetDeck</a>',\n",
       "  'text': 'Wrapping up the analysis on four work streams preparing for Day-Zero:\\n1)Water security\\n2)Economic security\\n3)Safety… https://t.co/eSq68xMPgu',\n",
       "  'truncated': True,\n",
       "  'user': {'contributors_enabled': False,\n",
       "   'created_at': 'Tue Feb 10 16:01:34 +0000 2009',\n",
       "   'default_profile': False,\n",
       "   'default_profile_image': False,\n",
       "   'description': 'Mother, Makhulu, wife, Premier.  Likes enable me to save the comment NOT support it.',\n",
       "   'entities': {'description': {'urls': []},\n",
       "    'url': {'urls': [{'display_url': 'da.org.za',\n",
       "       'expanded_url': 'http://www.da.org.za',\n",
       "       'indices': [0, 23],\n",
       "       'url': 'https://t.co/dxeUcK29z6'}]}},\n",
       "   'favourites_count': 1084,\n",
       "   'follow_request_sent': False,\n",
       "   'followers_count': 1253688,\n",
       "   'following': False,\n",
       "   'friends_count': 2231,\n",
       "   'geo_enabled': False,\n",
       "   'has_extended_profile': False,\n",
       "   'id': 20521828,\n",
       "   'id_str': '20521828',\n",
       "   'is_translation_enabled': False,\n",
       "   'is_translator': False,\n",
       "   'lang': 'en',\n",
       "   'listed_count': 2369,\n",
       "   'location': 'Cape Town',\n",
       "   'name': 'Helen Zille',\n",
       "   'notifications': False,\n",
       "   'profile_background_color': '0F285F',\n",
       "   'profile_background_image_url': 'http://pbs.twimg.com/profile_background_images/112499197/finalhelenupdate.png',\n",
       "   'profile_background_image_url_https': 'https://pbs.twimg.com/profile_background_images/112499197/finalhelenupdate.png',\n",
       "   'profile_background_tile': False,\n",
       "   'profile_banner_url': 'https://pbs.twimg.com/profile_banners/20521828/1490778969',\n",
       "   'profile_image_url': 'http://pbs.twimg.com/profile_images/946234192593027072/BBax8T0A_normal.jpg',\n",
       "   'profile_image_url_https': 'https://pbs.twimg.com/profile_images/946234192593027072/BBax8T0A_normal.jpg',\n",
       "   'profile_link_color': '246E9D',\n",
       "   'profile_sidebar_border_color': '0A4A74',\n",
       "   'profile_sidebar_fill_color': '90BFDE',\n",
       "   'profile_text_color': '333333',\n",
       "   'profile_use_background_image': True,\n",
       "   'protected': False,\n",
       "   'screen_name': 'helenzille',\n",
       "   'statuses_count': 59416,\n",
       "   'time_zone': 'Pretoria',\n",
       "   'translator_type': 'none',\n",
       "   'url': 'https://t.co/dxeUcK29z6',\n",
       "   'utc_offset': 7200,\n",
       "   'verified': True}},\n",
       " 'source': '<a href=\"http://twitter.com/download/android\" rel=\"nofollow\">Twitter for Android</a>',\n",
       " 'text': 'RT @helenzille: Wrapping up the analysis on four work streams preparing for Day-Zero:\\n1)Water security\\n2)Economic security\\n3)Safety and sec…',\n",
       " 'truncated': False,\n",
       " 'user': {'contributors_enabled': False,\n",
       "  'created_at': 'Fri Jan 12 23:28:29 +0000 2018',\n",
       "  'default_profile': True,\n",
       "  'default_profile_image': True,\n",
       "  'description': '',\n",
       "  'entities': {'description': {'urls': []}},\n",
       "  'favourites_count': 65,\n",
       "  'follow_request_sent': False,\n",
       "  'followers_count': 2,\n",
       "  'following': False,\n",
       "  'friends_count': 0,\n",
       "  'geo_enabled': False,\n",
       "  'has_extended_profile': False,\n",
       "  'id': 951959095086583809,\n",
       "  'id_str': '951959095086583809',\n",
       "  'is_translation_enabled': False,\n",
       "  'is_translator': False,\n",
       "  'lang': 'en',\n",
       "  'listed_count': 0,\n",
       "  'location': '',\n",
       "  'name': 'Gina Toscano',\n",
       "  'notifications': False,\n",
       "  'profile_background_color': 'F5F8FA',\n",
       "  'profile_background_image_url': None,\n",
       "  'profile_background_image_url_https': None,\n",
       "  'profile_background_tile': False,\n",
       "  'profile_image_url': 'http://abs.twimg.com/sticky/default_profile_images/default_profile_normal.png',\n",
       "  'profile_image_url_https': 'https://abs.twimg.com/sticky/default_profile_images/default_profile_normal.png',\n",
       "  'profile_link_color': '1DA1F2',\n",
       "  'profile_sidebar_border_color': 'C0DEED',\n",
       "  'profile_sidebar_fill_color': 'DDEEF6',\n",
       "  'profile_text_color': '333333',\n",
       "  'profile_use_background_image': True,\n",
       "  'protected': False,\n",
       "  'screen_name': 'GinaToscano7',\n",
       "  'statuses_count': 56,\n",
       "  'time_zone': None,\n",
       "  'translator_type': 'none',\n",
       "  'url': None,\n",
       "  'utc_offset': None,\n",
       "  'verified': False}}"
      ]
     },
     "execution_count": 172,
     "metadata": {},
     "output_type": "execute_result"
    }
   ],
   "source": [
    "t._json"
   ]
  },
  {
   "cell_type": "code",
   "execution_count": null,
   "metadata": {},
   "outputs": [],
   "source": []
  }
 ],
 "metadata": {
  "kernelspec": {
   "display_name": "Python 3",
   "language": "python",
   "name": "python3"
  },
  "language_info": {
   "codemirror_mode": {
    "name": "ipython",
    "version": 3
   },
   "file_extension": ".py",
   "mimetype": "text/x-python",
   "name": "python",
   "nbconvert_exporter": "python",
   "pygments_lexer": "ipython3",
   "version": "3.6.3"
  }
 },
 "nbformat": 4,
 "nbformat_minor": 2
}
